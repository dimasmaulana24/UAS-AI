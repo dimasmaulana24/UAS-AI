{
  "nbformat": 4,
  "nbformat_minor": 0,
  "metadata": {
    "colab": {
      "name": "Gambar_predic.ipynb",
      "provenance": []
    },
    "kernelspec": {
      "name": "python3",
      "display_name": "Python 3"
    },
    "language_info": {
      "name": "python"
    }
  },
  "cells": [
    {
      "cell_type": "code",
      "metadata": {
        "id": "s8eZTs7ZTWLK"
      },
      "source": [
        "from google.colab import drive\n",
        "from keras.models import load_model\n",
        "from keras.preprocessing import image\n",
        "from os import listdir\n",
        "import numpy as np"
      ],
      "execution_count": 1,
      "outputs": []
    },
    {
      "cell_type": "code",
      "metadata": {
        "colab": {
          "base_uri": "https://localhost:8080/"
        },
        "id": "D54PblZdU4XN",
        "outputId": "764f8114-ec0a-44ec-d375-1a9065d3a80e"
      },
      "source": [
        "drive.mount('/content/gdrive')\n",
        "%cd gdrive/MyDrive/Dataset"
      ],
      "execution_count": 2,
      "outputs": [
        {
          "output_type": "stream",
          "text": [
            "Mounted at /content/gdrive\n",
            "/content/gdrive/MyDrive/Dataset\n"
          ],
          "name": "stdout"
        }
      ]
    },
    {
      "cell_type": "code",
      "metadata": {
        "id": "un85IEniVLGG"
      },
      "source": [
        "ROWS = 256\n",
        "COLS = 256\n",
        "\n",
        "CLASS_NAMES = sorted(listdir('train'))"
      ],
      "execution_count": 3,
      "outputs": []
    },
    {
      "cell_type": "code",
      "metadata": {
        "id": "LiAFm22-VR8b"
      },
      "source": [
        "model = load_model('flower-customCNN.model')"
      ],
      "execution_count": 4,
      "outputs": []
    },
    {
      "cell_type": "code",
      "metadata": {
        "id": "bxKi96UcVeNS"
      },
      "source": [
        "def predict(fname):\n",
        "    img = image.load_img(fname, target_size=(ROWS, COLS))\n",
        "    img_tensor = image.img_to_array(img) # (height, width, channels)\n",
        "    # (1, height, width, channels), add a dimension because the model expects this shape:\n",
        "    # (batch_size, height, width, channels)\n",
        "    img_tensor = np.expand_dims(img_tensor, axis=0) \n",
        "    img_tensor /= 255. # model expects values in the range [0, 1]\n",
        "    prediction = model.predict(img_tensor)[0]\n",
        "    best_score_index = np.argmax(prediction)\n",
        "    flower = CLASS_NAMES[best_score_index] # retrieve original class name\n",
        "    print(\"Prediction: %s (%.2f%%)\" % (flower, 100*prediction[best_score_index]))"
      ],
      "execution_count": 7,
      "outputs": []
    },
    {
      "cell_type": "code",
      "metadata": {
        "colab": {
          "base_uri": "https://localhost:8080/"
        },
        "id": "O6ODBuioVsqa",
        "outputId": "1115451c-f027-4986-984e-4219c24234eb"
      },
      "source": [
        "predict('test/tulip/11746080_963537acdc.jpg')"
      ],
      "execution_count": 8,
      "outputs": [
        {
          "output_type": "stream",
          "text": [
            "Prediction: tulip (89.06%)\n"
          ],
          "name": "stdout"
        }
      ]
    }
  ]
}